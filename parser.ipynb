{
 "cells": [
  {
   "cell_type": "markdown",
   "metadata": {},
   "source": [
    "## Rekursiv absteigender Parser"
   ]
  },
  {
   "cell_type": "markdown",
   "metadata": {},
   "source": [
    "```\n",
    "stmt -> expr ;\n",
    "      | if ( expr ) stmt\n",
    "      | for ( optex ; optex ; optex ) stmt\n",
    "      | weitere\n",
    "\n",
    "optex -> expr\n",
    "\t   | ε\n",
    "```"
   ]
  },
  {
   "cell_type": "code",
   "execution_count": 15,
   "metadata": {},
   "outputs": [],
   "source": [
    "text = 'for ( ; EXPR ; EXPR ) if ( EXPR ) EXPR ; EOF'\n",
    "#text = 'for ( ; EXPR ; EXPR ) if ( EXPR ) if ( EXPR ) if ( EXPR ) if ( EXPR ) EXPR ; EOF'"
   ]
  },
  {
   "cell_type": "code",
   "execution_count": 16,
   "metadata": {},
   "outputs": [
    {
     "data": {
      "text/plain": [
       "['for',\n",
       " '(',\n",
       " ';',\n",
       " 'EXPR',\n",
       " ';',\n",
       " 'EXPR',\n",
       " ')',\n",
       " 'if',\n",
       " '(',\n",
       " 'EXPR',\n",
       " ')',\n",
       " 'EXPR',\n",
       " ';',\n",
       " 'EOF']"
      ]
     },
     "execution_count": 16,
     "metadata": {},
     "output_type": "execute_result"
    }
   ],
   "source": [
    "# Wir machen es uns einfach und nehemn an, das jedas Wort (durch Leerzeichen getrennt) ein Token ist\n",
    "# Token-Typen benötigen wir hier nicht\n",
    "token_stream = text.split(' ')\n",
    "token_stream"
   ]
  },
  {
   "cell_type": "code",
   "execution_count": 17,
   "metadata": {},
   "outputs": [],
   "source": [
    "text_index = 0;\n",
    "lookahead = token_stream[text_index]\n",
    "indent = str()\n",
    "\n",
    "def stmt():\n",
    "    global lookahead, indent\n",
    "    # Durch das Anwenden einer Regel \"rutscht\" man eine Ebene tiefer in den Parse-Baum\n",
    "    # Das wird durch das Verlängern der Leerzeichen-Strings am Anfang symbolisiert\n",
    "    indent += '    '\n",
    "    # Auswahl 1: stmt -> expr ;\n",
    "    if lookahead == 'EXPR':\n",
    "        match('EXPR'); match(';')\n",
    "    # Auswahl 2: stmt -> if ( expr ) stmt\n",
    "    elif lookahead == 'if':\n",
    "        match('if'); match('('); match('EXPR'); match(')'); stmt()\n",
    "    # Auswahl 3: stmt -> for ( optex ; optex ; optex ) stmt\n",
    "    elif lookahead == 'for':\n",
    "        match('for'); match('(');\n",
    "        optex(); match(';'); optex(); match(';'); optex()\n",
    "        match(')'); stmt()\n",
    "    # Auswahl 2: stmt -> weitere\n",
    "    elif lookahead == 'weitere':\n",
    "        match('weitere')\n",
    "    else:\n",
    "        print(\"Syntax Error in stmt()\")\n",
    "    indent = indent[:-4]\n",
    "    \n",
    "\n",
    "def optex():\n",
    "    global lookahead, indent\n",
    "    indent += '    '\n",
    "    # Auswahl 1: optex -> expr\n",
    "    if lookahead == \"EXPR\":\n",
    "        match('EXPR')\n",
    "    # Auswahl 2: optex -> EPSILON\n",
    "    # ./.\n",
    "    indent = indent[:-4]\n",
    "\n",
    "def match(t):\n",
    "    global lookahead, token_stream, text_index, indent\n",
    "    if (lookahead == t):\n",
    "        print(indent,\"Matched\", t)\n",
    "        text_index += 1\n",
    "        lookahead = token_stream[text_index]\n",
    "        if lookahead == 'EOF':\n",
    "            print(\"Done\")\n",
    "    else:\n",
    "        print(\"Syntax Error in match(%s)\" % lookahead)\n"
   ]
  },
  {
   "cell_type": "code",
   "execution_count": 18,
   "metadata": {},
   "outputs": [
    {
     "name": "stdout",
     "output_type": "stream",
     "text": [
      "     Matched for\n",
      "     Matched (\n",
      "     Matched ;\n",
      "         Matched EXPR\n",
      "     Matched ;\n",
      "         Matched EXPR\n",
      "     Matched )\n",
      "         Matched if\n",
      "         Matched (\n",
      "         Matched EXPR\n",
      "         Matched )\n",
      "             Matched EXPR\n",
      "             Matched ;\n",
      "Done\n"
     ]
    }
   ],
   "source": [
    "stmt()"
   ]
  },
  {
   "cell_type": "code",
   "execution_count": null,
   "metadata": {},
   "outputs": [],
   "source": []
  }
 ],
 "metadata": {
  "kernelspec": {
   "display_name": "Python 3",
   "language": "python",
   "name": "python3"
  },
  "language_info": {
   "codemirror_mode": {
    "name": "ipython",
    "version": 3
   },
   "file_extension": ".py",
   "mimetype": "text/x-python",
   "name": "python",
   "nbconvert_exporter": "python",
   "pygments_lexer": "ipython3",
   "version": "3.7.6"
  }
 },
 "nbformat": 4,
 "nbformat_minor": 2
}
